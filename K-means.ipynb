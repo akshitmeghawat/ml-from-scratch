{
 "cells": [
  {
   "cell_type": "code",
   "execution_count": 4,
   "metadata": {},
   "outputs": [],
   "source": [
    "import numpy as np"
   ]
  },
  {
   "cell_type": "code",
   "execution_count": 128,
   "metadata": {},
   "outputs": [],
   "source": [
    "np.random.seed(5)"
   ]
  },
  {
   "cell_type": "code",
   "execution_count": 129,
   "metadata": {},
   "outputs": [],
   "source": [
    "# number of clusters.\n",
    "k = 3\n",
    "\n",
    "# size of dataset.\n",
    "m = 1000\n",
    "n = 2"
   ]
  },
  {
   "cell_type": "code",
   "execution_count": 130,
   "metadata": {},
   "outputs": [],
   "source": [
    "X = np.random.randn(m,n)\n",
    "y = np.random.randn(m)"
   ]
  },
  {
   "cell_type": "code",
   "execution_count": 131,
   "metadata": {},
   "outputs": [],
   "source": [
    "# define k centroids\n",
    "C = np.random.randn(k, n)"
   ]
  },
  {
   "cell_type": "code",
   "execution_count": 132,
   "metadata": {},
   "outputs": [
    {
     "data": {
      "text/plain": [
       "array([[ 0.44122749, -0.33087015],\n",
       "       [ 2.43077119, -0.25209213],\n",
       "       [ 0.10960984,  1.58248112],\n",
       "       [-0.9092324 , -0.59163666],\n",
       "       [ 0.18760323, -0.32986996]])"
      ]
     },
     "execution_count": 132,
     "metadata": {},
     "output_type": "execute_result"
    }
   ],
   "source": [
    "X[:5]"
   ]
  },
  {
   "cell_type": "code",
   "execution_count": 133,
   "metadata": {},
   "outputs": [
    {
     "data": {
      "text/plain": [
       "array([[-2.08948318,  1.27462698],\n",
       "       [-2.30058089, -1.67090956],\n",
       "       [-0.83615625, -0.81129715]])"
      ]
     },
     "execution_count": 133,
     "metadata": {},
     "output_type": "execute_result"
    }
   ],
   "source": [
    "C"
   ]
  },
  {
   "cell_type": "code",
   "execution_count": 134,
   "metadata": {},
   "outputs": [],
   "source": [
    "clusters = range(m)"
   ]
  },
  {
   "cell_type": "code",
   "execution_count": 135,
   "metadata": {},
   "outputs": [],
   "source": [
    "def predict(centroids, point):\n",
    "    distances = np.linalg.norm(centroids - point, axis=1)\n",
    "    return np.argmin(distances)"
   ]
  },
  {
   "cell_type": "code",
   "execution_count": 136,
   "metadata": {},
   "outputs": [
    {
     "name": "stdout",
     "output_type": "stream",
     "text": [
      "run 0\n",
      "run 1\n",
      "run 2\n",
      "run 3\n",
      "run 4\n",
      "run 5\n",
      "run 6\n",
      "run 7\n",
      "run 8\n",
      "run 9\n"
     ]
    }
   ],
   "source": [
    "cont = True\n",
    "run = 0\n",
    "while cont:\n",
    "    print \"run\", run\n",
    "    run += 1\n",
    "    new_C = np.zeros(shape=(k,n))\n",
    "    count = np.zeros(shape=k)\n",
    "    cont = False\n",
    "    for i in range(m):\n",
    "        pred = predict(C, X[i])\n",
    "        # if a point changes it's cluster, we continue the iteration.\n",
    "        if pred != clusters[i]:\n",
    "            cont = True\n",
    "        clusters[i]=pred\n",
    "        new_C[pred] += X[i]\n",
    "        count[pred] += 1\n",
    "    # calculate new cluster centroids\n",
    "    count.resize(k,1)\n",
    "    count = np.repeat(a=count, repeats=n, axis=1)\n",
    "    C = np.divide(new_C, count)"
   ]
  },
  {
   "cell_type": "code",
   "execution_count": 137,
   "metadata": {},
   "outputs": [
    {
     "data": {
      "text/plain": [
       "array([[-0.28465138,  1.10911318],\n",
       "       [-0.84354094, -0.6621314 ],\n",
       "       [ 0.88943208, -0.28433031]])"
      ]
     },
     "execution_count": 137,
     "metadata": {},
     "output_type": "execute_result"
    }
   ],
   "source": [
    "C"
   ]
  }
 ],
 "metadata": {
  "kernelspec": {
   "display_name": "Python 2",
   "language": "python",
   "name": "python2"
  },
  "language_info": {
   "codemirror_mode": {
    "name": "ipython",
    "version": 2
   },
   "file_extension": ".py",
   "mimetype": "text/x-python",
   "name": "python",
   "nbconvert_exporter": "python",
   "pygments_lexer": "ipython2",
   "version": "2.7.15"
  }
 },
 "nbformat": 4,
 "nbformat_minor": 2
}
