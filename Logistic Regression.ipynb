{
 "cells": [
  {
   "cell_type": "code",
   "execution_count": 1,
   "metadata": {},
   "outputs": [],
   "source": [
    "import numpy as np"
   ]
  },
  {
   "cell_type": "code",
   "execution_count": 2,
   "metadata": {},
   "outputs": [],
   "source": [
    "np.random.seed(5)"
   ]
  },
  {
   "cell_type": "code",
   "execution_count": 3,
   "metadata": {},
   "outputs": [],
   "source": [
    "X = np.random.randn(100, 10)"
   ]
  },
  {
   "cell_type": "code",
   "execution_count": 4,
   "metadata": {},
   "outputs": [],
   "source": [
    "m,n = X.shape # number of training points and features"
   ]
  },
  {
   "cell_type": "code",
   "execution_count": 5,
   "metadata": {},
   "outputs": [],
   "source": [
    "y = np.random.randint(0, high=2, size=m)"
   ]
  },
  {
   "cell_type": "code",
   "execution_count": 25,
   "metadata": {},
   "outputs": [],
   "source": [
    "w = np.random.randn(n+1) # added +1 for the bias term."
   ]
  },
  {
   "cell_type": "code",
   "execution_count": 10,
   "metadata": {},
   "outputs": [],
   "source": [
    "# inserting a one to at the beginning of each row for bias term.\n",
    "X = np.insert(arr=X, obj=0, values=np.ones(m), axis=1)"
   ]
  },
  {
   "cell_type": "code",
   "execution_count": 13,
   "metadata": {},
   "outputs": [],
   "source": [
    "def calculate_loss(X, y, w):\n",
    "    # calculating log loss\n",
    "    z = np.matmul(X, np.transpose(w))\n",
    "    predictions = 1.0 / (1 + np.exp(-1*z))\n",
    "    total_cost = -1*np.sum(y*np.log(predictions) + (1-y)*np.log(1-predictions))\n",
    "    return total_cost/m"
   ]
  },
  {
   "cell_type": "code",
   "execution_count": 26,
   "metadata": {},
   "outputs": [
    {
     "data": {
      "text/plain": [
       "0.9989297940967126"
      ]
     },
     "execution_count": 26,
     "metadata": {},
     "output_type": "execute_result"
    }
   ],
   "source": [
    "calculate_loss(X, y, w)"
   ]
  },
  {
   "cell_type": "code",
   "execution_count": 27,
   "metadata": {},
   "outputs": [],
   "source": [
    "learning_rate = 0.01"
   ]
  },
  {
   "cell_type": "code",
   "execution_count": 19,
   "metadata": {},
   "outputs": [],
   "source": [
    "def gradient_descent(X, y, w, epochs):\n",
    "    for i in xrange(epochs):\n",
    "        print \"i:\",i\n",
    "        print calculate_loss(X, y, w)\n",
    "        z = np.matmul(X, np.transpose(w))\n",
    "        predictions = 1.0 / (1 + np.exp(-1*z))\n",
    "        error = y - predictions\n",
    "        gradient = -1*np.matmul(np.transpose(X), error) / m\n",
    "        w -= learning_rate*gradient\n",
    "    return w"
   ]
  },
  {
   "cell_type": "code",
   "execution_count": 28,
   "metadata": {},
   "outputs": [
    {
     "name": "stdout",
     "output_type": "stream",
     "text": [
      "i: 0\n",
      "0.9989297940967126\n",
      "i: 1\n",
      "0.9979625157852893\n",
      "i: 2\n",
      "0.9969968131665432\n",
      "i: 3\n",
      "0.9960326868681371\n",
      "i: 4\n",
      "0.9950701375105814\n",
      "i: 5\n",
      "0.9941091657071904\n",
      "i: 6\n",
      "0.9931497720640354\n",
      "i: 7\n",
      "0.992191957179895\n",
      "i: 8\n",
      "0.9912357216462135\n",
      "i: 9\n",
      "0.9902810660470515\n",
      "i: 10\n",
      "0.9893279909590427\n",
      "i: 11\n",
      "0.9883764969513459\n",
      "i: 12\n",
      "0.9874265845856014\n",
      "i: 13\n",
      "0.9864782544158843\n",
      "i: 14\n",
      "0.9855315069886612\n",
      "i: 15\n",
      "0.9845863428427423\n",
      "i: 16\n",
      "0.9836427625092405\n",
      "i: 17\n",
      "0.982700766511523\n",
      "i: 18\n",
      "0.9817603553651705\n",
      "i: 19\n",
      "0.9808215295779297\n",
      "i: 20\n",
      "0.9798842896496732\n",
      "i: 21\n",
      "0.9789486360723514\n",
      "i: 22\n",
      "0.9780145693299523\n",
      "i: 23\n",
      "0.9770820898984575\n",
      "i: 24\n",
      "0.9761511982457985\n",
      "i: 25\n",
      "0.9752218948318137\n",
      "i: 26\n",
      "0.9742941801082062\n",
      "i: 27\n",
      "0.9733680545185028\n",
      "i: 28\n",
      "0.9724435184980088\n",
      "i: 29\n",
      "0.9715205724737683\n",
      "i: 30\n",
      "0.9705992168645219\n",
      "i: 31\n",
      "0.9696794520806666\n",
      "i: 32\n",
      "0.9687612785242109\n",
      "i: 33\n",
      "0.9678446965887388\n",
      "i: 34\n",
      "0.9669297066593657\n",
      "i: 35\n",
      "0.9660163091126985\n",
      "i: 36\n",
      "0.9651045043167967\n",
      "i: 37\n",
      "0.964194292631131\n",
      "i: 38\n",
      "0.9632856744065456\n",
      "i: 39\n",
      "0.9623786499852165\n",
      "i: 40\n",
      "0.9614732197006138\n",
      "i: 41\n",
      "0.9605693838774649\n",
      "i: 42\n",
      "0.9596671428317107\n",
      "i: 43\n",
      "0.9587664968704721\n",
      "i: 44\n",
      "0.9578674462920113\n",
      "i: 45\n",
      "0.9569699913856922\n",
      "i: 46\n",
      "0.9560741324319448\n",
      "i: 47\n",
      "0.9551798697022288\n",
      "i: 48\n",
      "0.9542872034589941\n",
      "i: 49\n",
      "0.9533961339556477\n",
      "i: 50\n",
      "0.9525066614365149\n",
      "i: 51\n",
      "0.951618786136805\n",
      "i: 52\n",
      "0.9507325082825763\n",
      "i: 53\n",
      "0.9498478280906991\n",
      "i: 54\n",
      "0.9489647457688232\n",
      "i: 55\n",
      "0.9480832615153415\n",
      "i: 56\n",
      "0.9472033755193565\n",
      "i: 57\n",
      "0.9463250879606473\n",
      "i: 58\n",
      "0.9454483990096353\n",
      "i: 59\n",
      "0.9445733088273504\n",
      "i: 60\n",
      "0.9436998175654\n",
      "i: 61\n",
      "0.9428279253659357\n",
      "i: 62\n",
      "0.9419576323616211\n",
      "i: 63\n",
      "0.9410889386755992\n",
      "i: 64\n",
      "0.9402218444214627\n",
      "i: 65\n",
      "0.9393563497032226\n",
      "i: 66\n",
      "0.9384924546152773\n",
      "i: 67\n",
      "0.9376301592423816\n",
      "i: 68\n",
      "0.936769463659618\n",
      "i: 69\n",
      "0.9359103679323666\n",
      "i: 70\n",
      "0.9350528721162756\n",
      "i: 71\n",
      "0.9341969762572343\n",
      "i: 72\n",
      "0.9333426803913417\n",
      "i: 73\n",
      "0.9324899845448812\n",
      "i: 74\n",
      "0.9316388887342916\n",
      "i: 75\n",
      "0.9307893929661408\n",
      "i: 76\n",
      "0.9299414972370976\n",
      "i: 77\n",
      "0.9290952015339067\n",
      "i: 78\n",
      "0.9282505058333619\n",
      "i: 79\n",
      "0.9274074101022801\n",
      "i: 80\n",
      "0.9265659142974778\n",
      "i: 81\n",
      "0.9257260183657436\n",
      "i: 82\n",
      "0.9248877222438164\n",
      "i: 83\n",
      "0.9240510258583603\n",
      "i: 84\n",
      "0.9232159291259399\n",
      "i: 85\n",
      "0.9223824319529994\n",
      "i: 86\n",
      "0.9215505342358373\n",
      "i: 87\n",
      "0.9207202358605877\n",
      "i: 88\n",
      "0.9198915367031936\n",
      "i: 89\n",
      "0.9190644366293891\n",
      "i: 90\n",
      "0.9182389354946778\n",
      "i: 91\n",
      "0.9174150331443108\n",
      "i: 92\n",
      "0.9165927294132669\n",
      "i: 93\n",
      "0.9157720241262345\n",
      "i: 94\n",
      "0.9149529170975903\n",
      "i: 95\n",
      "0.9141354081313808\n",
      "i: 96\n",
      "0.9133194970213049\n",
      "i: 97\n",
      "0.9125051835506954\n",
      "i: 98\n",
      "0.9116924674925002\n",
      "i: 99\n",
      "0.9108813486092676\n"
     ]
    }
   ],
   "source": [
    "weights = gradient_descent(X, y, w, 100)"
   ]
  },
  {
   "cell_type": "code",
   "execution_count": 24,
   "metadata": {},
   "outputs": [
    {
     "data": {
      "text/plain": [
       "array([ 0.44618261,  0.11585096, -0.24700265, -1.29588278,  0.08625178,\n",
       "        1.59276775,  0.46045448, -0.64177213,  0.16473784,  0.44601085,\n",
       "        1.26055948])"
      ]
     },
     "execution_count": 24,
     "metadata": {},
     "output_type": "execute_result"
    }
   ],
   "source": [
    "weights"
   ]
  },
  {
   "cell_type": "code",
   "execution_count": null,
   "metadata": {},
   "outputs": [],
   "source": []
  }
 ],
 "metadata": {
  "kernelspec": {
   "display_name": "Python 2",
   "language": "python",
   "name": "python2"
  },
  "language_info": {
   "codemirror_mode": {
    "name": "ipython",
    "version": 2
   },
   "file_extension": ".py",
   "mimetype": "text/x-python",
   "name": "python",
   "nbconvert_exporter": "python",
   "pygments_lexer": "ipython2",
   "version": "2.7.15"
  }
 },
 "nbformat": 4,
 "nbformat_minor": 2
}
