{
 "cells": [
  {
   "cell_type": "code",
   "execution_count": 1,
   "metadata": {},
   "outputs": [],
   "source": [
    "import numpy as np"
   ]
  },
  {
   "cell_type": "code",
   "execution_count": 97,
   "metadata": {},
   "outputs": [],
   "source": [
    "np.random.seed(5)"
   ]
  },
  {
   "cell_type": "code",
   "execution_count": 98,
   "metadata": {},
   "outputs": [],
   "source": [
    "X = np.random.randn(100, 10)\n",
    "y = np.random.randn(100)"
   ]
  },
  {
   "cell_type": "code",
   "execution_count": 99,
   "metadata": {},
   "outputs": [],
   "source": [
    "m,n = X.shape # number of training points and features"
   ]
  },
  {
   "cell_type": "code",
   "execution_count": 100,
   "metadata": {},
   "outputs": [],
   "source": [
    "w = np.random.randn(n+1) # added +1 for the bias term."
   ]
  },
  {
   "cell_type": "code",
   "execution_count": 101,
   "metadata": {},
   "outputs": [],
   "source": [
    "# inserting a one to at the beginning of each row for bias term.\n",
    "X = np.insert(arr=X, obj=0, values=np.ones(m), axis=1)"
   ]
  },
  {
   "cell_type": "code",
   "execution_count": 102,
   "metadata": {},
   "outputs": [],
   "source": [
    "def calculate_loss(X, y, w):\n",
    "    # calculating mean square error\n",
    "    predictions = np.matmul(X, np.transpose(w))\n",
    "    return np.sum((y - predictions)**2)/m"
   ]
  },
  {
   "cell_type": "code",
   "execution_count": 103,
   "metadata": {},
   "outputs": [
    {
     "data": {
      "text/plain": [
       "11.633122027255412"
      ]
     },
     "execution_count": 103,
     "metadata": {},
     "output_type": "execute_result"
    }
   ],
   "source": [
    "calculate_loss(X, y, w)"
   ]
  },
  {
   "cell_type": "code",
   "execution_count": 104,
   "metadata": {},
   "outputs": [],
   "source": [
    "def gradient_descent(X, y, w, epochs):\n",
    "    for i in xrange(epochs):\n",
    "        print \"i:\",i\n",
    "        print calculate_loss(X, y, w)\n",
    "        predictions = np.matmul(X, np.transpose(w))\n",
    "        error = y - predictions\n",
    "        gradient = -1*np.matmul(np.transpose(X), error) / m\n",
    "        w -= learning_rate*gradient\n",
    "    return w"
   ]
  },
  {
   "cell_type": "code",
   "execution_count": 105,
   "metadata": {},
   "outputs": [
    {
     "name": "stdout",
     "output_type": "stream",
     "text": [
      "i: 0\n",
      "11.633122027255412\n",
      "i: 1\n",
      "11.392852507121937\n",
      "i: 2\n",
      "11.158240914973067\n",
      "i: 3\n",
      "10.929147949287168\n",
      "i: 4\n",
      "10.70543785654623\n",
      "i: 5\n",
      "10.486978338526132\n",
      "i: 6\n",
      "10.273640462057042\n",
      "i: 7\n",
      "10.065298571187192\n",
      "i: 8\n",
      "9.861830201685008\n",
      "i: 9\n",
      "9.663115997816371\n",
      "i: 10\n",
      "9.469039631335583\n",
      "i: 11\n",
      "9.27948772263015\n",
      "i: 12\n",
      "9.094349763961302\n",
      "i: 13\n",
      "8.913518044743626\n",
      "i: 14\n",
      "8.736887578808807\n",
      "i: 15\n",
      "8.56435603359993\n",
      "i: 16\n",
      "8.395823661244318\n",
      "i: 17\n",
      "8.231193231454226\n",
      "i: 18\n",
      "8.070369966206158\n",
      "i: 19\n",
      "7.913261476150885\n",
      "i: 20\n",
      "7.759777698707572\n",
      "i: 21\n",
      "7.609830837796652\n",
      "i: 22\n",
      "7.463335305167374\n",
      "i: 23\n",
      "7.320207663277126\n",
      "i: 24\n",
      "7.180366569680786\n",
      "i: 25\n",
      "7.043732722889547\n",
      "i: 26\n",
      "6.910228809659693\n",
      "i: 27\n",
      "6.779779453672926\n",
      "i: 28\n",
      "6.652311165570924\n",
      "i: 29\n",
      "6.527752294307711\n",
      "i: 30\n",
      "6.406032979784538\n",
      "i: 31\n",
      "6.287085106732835\n",
      "i: 32\n",
      "6.170842259811837\n",
      "i: 33\n",
      "6.057239679888237\n",
      "i: 34\n",
      "5.946214221466289\n",
      "i: 35\n",
      "5.837704311237501\n",
      "i: 36\n",
      "5.731649907719966\n",
      "i: 37\n",
      "5.627992461958156\n",
      "i: 38\n",
      "5.526674879254859\n",
      "i: 39\n",
      "5.427641481907582\n",
      "i: 40\n",
      "5.330837972922658\n",
      "i: 41\n",
      "5.236211400680881\n",
      "i: 42\n",
      "5.143710124529276\n",
      "i: 43\n",
      "5.053283781274268\n",
      "i: 44\n",
      "4.964883252552221\n",
      "i: 45\n",
      "4.878460633053912\n",
      "i: 46\n",
      "4.793969199580193\n",
      "i: 47\n",
      "4.7113633809066755\n",
      "i: 48\n",
      "4.630598728435894\n",
      "i: 49\n",
      "4.551631887615959\n",
      "i: 50\n",
      "4.4744205701053135\n",
      "i: 51\n",
      "4.398923526663733\n",
      "i: 52\n",
      "4.325100520750238\n",
      "i: 53\n",
      "4.252912302809162\n",
      "i: 54\n",
      "4.182320585226024\n",
      "i: 55\n",
      "4.113288017935483\n",
      "i: 56\n",
      "4.045778164664\n",
      "i: 57\n",
      "3.9797554797904042\n",
      "i: 58\n",
      "3.915185285807927\n",
      "i: 59\n",
      "3.852033751371796\n",
      "i: 60\n",
      "3.7902678699168355\n",
      "i: 61\n",
      "3.7298554388299796\n",
      "i: 62\n",
      "3.6707650391630073\n",
      "i: 63\n",
      "3.6129660158711805\n",
      "i: 64\n",
      "3.5564284585638894\n",
      "i: 65\n",
      "3.501123182753742\n",
      "i: 66\n",
      "3.4470217115909314\n",
      "i: 67\n",
      "3.3940962580700558\n",
      "i: 68\n",
      "3.3423197076968982\n",
      "i: 69\n",
      "3.2916656016030426\n",
      "i: 70\n",
      "3.2421081200964816\n",
      "i: 71\n",
      "3.1936220666367348\n",
      "i: 72\n",
      "3.146182852223279\n",
      "i: 73\n",
      "3.099766480186384\n",
      "i: 74\n",
      "3.05434953136977\n",
      "i: 75\n",
      "3.0099091496947636\n",
      "i: 76\n",
      "2.966423028095899\n",
      "i: 77\n",
      "2.923869394818222\n",
      "i: 78\n",
      "2.882227000066743\n",
      "i: 79\n",
      "2.8414751029988308\n",
      "i: 80\n",
      "2.8015934590504994\n",
      "i: 81\n",
      "2.762562307587834\n",
      "i: 82\n",
      "2.724362359875044\n",
      "i: 83\n",
      "2.6869747873507843\n",
      "i: 84\n",
      "2.650381210204729\n",
      "i: 85\n",
      "2.6145636862464703\n",
      "i: 86\n",
      "2.5795047000591165\n",
      "i: 87\n",
      "2.5451871524301324\n",
      "i: 88\n",
      "2.511594350052156\n",
      "i: 89\n",
      "2.478709995486735\n",
      "i: 90\n",
      "2.446518177384119\n",
      "i: 91\n",
      "2.4150033609523955\n",
      "i: 92\n",
      "2.3841503786694824\n",
      "i: 93\n",
      "2.3539444212316147\n",
      "i: 94\n",
      "2.3243710287321733\n",
      "i: 95\n",
      "2.2954160820648366\n",
      "i: 96\n",
      "2.267065794545213\n",
      "i: 97\n",
      "2.2393067037452643\n",
      "i: 98\n",
      "2.212125663534974\n",
      "i: 99\n",
      "2.1855098363258763\n"
     ]
    }
   ],
   "source": [
    "weights = gradient_descent(X, y, w, 100)"
   ]
  },
  {
   "cell_type": "code",
   "execution_count": 106,
   "metadata": {},
   "outputs": [
    {
     "data": {
      "text/plain": [
       "array([ 0.73348899, -0.2924204 ,  0.75833847, -0.00477661,  0.06345841,\n",
       "        0.00540947, -0.19046079, -0.3028386 ,  0.42132662, -0.30668754,\n",
       "       -0.05806081])"
      ]
     },
     "execution_count": 106,
     "metadata": {},
     "output_type": "execute_result"
    }
   ],
   "source": [
    "weights"
   ]
  },
  {
   "cell_type": "code",
   "execution_count": null,
   "metadata": {},
   "outputs": [],
   "source": []
  }
 ],
 "metadata": {
  "kernelspec": {
   "display_name": "Python 2",
   "language": "python",
   "name": "python2"
  },
  "language_info": {
   "codemirror_mode": {
    "name": "ipython",
    "version": 2
   },
   "file_extension": ".py",
   "mimetype": "text/x-python",
   "name": "python",
   "nbconvert_exporter": "python",
   "pygments_lexer": "ipython2",
   "version": "2.7.15"
  }
 },
 "nbformat": 4,
 "nbformat_minor": 2
}
