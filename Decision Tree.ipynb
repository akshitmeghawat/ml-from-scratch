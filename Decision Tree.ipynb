{
 "cells": [
  {
   "cell_type": "code",
   "execution_count": 1,
   "metadata": {},
   "outputs": [],
   "source": [
    "import numpy as np\n",
    "import pandas as pd\n",
    "import matplotlib.pyplot as plt\n",
    "import seaborn as sns\n",
    "import random\n",
    "from pprint import pprint\n",
    "from sklearn.datasets import load_iris\n",
    "from sklearn.model_selection import train_test_split\n",
    "%matplotlib inline"
   ]
  },
  {
   "cell_type": "code",
   "execution_count": 2,
   "metadata": {},
   "outputs": [],
   "source": [
    "random.seed(0)"
   ]
  },
  {
   "cell_type": "code",
   "execution_count": 3,
   "metadata": {},
   "outputs": [],
   "source": [
    "iris = load_iris()"
   ]
  },
  {
   "cell_type": "code",
   "execution_count": 4,
   "metadata": {},
   "outputs": [],
   "source": [
    "df = pd.DataFrame(data=iris.data, columns=iris.feature_names)\n",
    "df['species'] = iris.target"
   ]
  },
  {
   "cell_type": "code",
   "execution_count": 8,
   "metadata": {},
   "outputs": [
    {
     "data": {
      "text/plain": [
       "numpy.ndarray"
      ]
     },
     "execution_count": 8,
     "metadata": {},
     "output_type": "execute_result"
    }
   ],
   "source": [
    "type(iris.data)"
   ]
  },
  {
   "cell_type": "code",
   "execution_count": 10,
   "metadata": {},
   "outputs": [
    {
     "data": {
      "text/plain": [
       "numpy.ndarray"
      ]
     },
     "execution_count": 10,
     "metadata": {},
     "output_type": "execute_result"
    }
   ],
   "source": [
    "type(iris.target)"
   ]
  },
  {
   "cell_type": "code",
   "execution_count": 6,
   "metadata": {},
   "outputs": [
    {
     "data": {
      "text/html": [
       "<div>\n",
       "<style scoped>\n",
       "    .dataframe tbody tr th:only-of-type {\n",
       "        vertical-align: middle;\n",
       "    }\n",
       "\n",
       "    .dataframe tbody tr th {\n",
       "        vertical-align: top;\n",
       "    }\n",
       "\n",
       "    .dataframe thead th {\n",
       "        text-align: right;\n",
       "    }\n",
       "</style>\n",
       "<table border=\"1\" class=\"dataframe\">\n",
       "  <thead>\n",
       "    <tr style=\"text-align: right;\">\n",
       "      <th></th>\n",
       "      <th>sepal length (cm)</th>\n",
       "      <th>sepal width (cm)</th>\n",
       "      <th>petal length (cm)</th>\n",
       "      <th>petal width (cm)</th>\n",
       "      <th>species</th>\n",
       "    </tr>\n",
       "  </thead>\n",
       "  <tbody>\n",
       "    <tr>\n",
       "      <th>0</th>\n",
       "      <td>5.1</td>\n",
       "      <td>3.5</td>\n",
       "      <td>1.4</td>\n",
       "      <td>0.2</td>\n",
       "      <td>0</td>\n",
       "    </tr>\n",
       "    <tr>\n",
       "      <th>1</th>\n",
       "      <td>4.9</td>\n",
       "      <td>3.0</td>\n",
       "      <td>1.4</td>\n",
       "      <td>0.2</td>\n",
       "      <td>0</td>\n",
       "    </tr>\n",
       "    <tr>\n",
       "      <th>2</th>\n",
       "      <td>4.7</td>\n",
       "      <td>3.2</td>\n",
       "      <td>1.3</td>\n",
       "      <td>0.2</td>\n",
       "      <td>0</td>\n",
       "    </tr>\n",
       "    <tr>\n",
       "      <th>3</th>\n",
       "      <td>4.6</td>\n",
       "      <td>3.1</td>\n",
       "      <td>1.5</td>\n",
       "      <td>0.2</td>\n",
       "      <td>0</td>\n",
       "    </tr>\n",
       "    <tr>\n",
       "      <th>4</th>\n",
       "      <td>5.0</td>\n",
       "      <td>3.6</td>\n",
       "      <td>1.4</td>\n",
       "      <td>0.2</td>\n",
       "      <td>0</td>\n",
       "    </tr>\n",
       "  </tbody>\n",
       "</table>\n",
       "</div>"
      ],
      "text/plain": [
       "   sepal length (cm)  sepal width (cm)  petal length (cm)  petal width (cm)  \\\n",
       "0                5.1               3.5                1.4               0.2   \n",
       "1                4.9               3.0                1.4               0.2   \n",
       "2                4.7               3.2                1.3               0.2   \n",
       "3                4.6               3.1                1.5               0.2   \n",
       "4                5.0               3.6                1.4               0.2   \n",
       "\n",
       "   species  \n",
       "0        0  \n",
       "1        0  \n",
       "2        0  \n",
       "3        0  \n",
       "4        0  "
      ]
     },
     "execution_count": 6,
     "metadata": {},
     "output_type": "execute_result"
    }
   ],
   "source": [
    "df.head()"
   ]
  },
  {
   "cell_type": "code",
   "execution_count": 7,
   "metadata": {},
   "outputs": [
    {
     "name": "stdout",
     "output_type": "stream",
     "text": [
      "<class 'pandas.core.frame.DataFrame'>\n",
      "RangeIndex: 150 entries, 0 to 149\n",
      "Data columns (total 5 columns):\n",
      "sepal length (cm)    150 non-null float64\n",
      "sepal width (cm)     150 non-null float64\n",
      "petal length (cm)    150 non-null float64\n",
      "petal width (cm)     150 non-null float64\n",
      "species              150 non-null int64\n",
      "dtypes: float64(4), int64(1)\n",
      "memory usage: 5.9 KB\n"
     ]
    }
   ],
   "source": [
    "df.info()"
   ]
  },
  {
   "cell_type": "code",
   "execution_count": 11,
   "metadata": {},
   "outputs": [],
   "source": [
    "X_train, X_test, y_train, y_test = train_test_split(iris.data,\n",
    "                                                    iris.target,\n",
    "                                                    test_size=0.2,\n",
    "                                                    stratify=iris.target)"
   ]
  },
  {
   "cell_type": "code",
   "execution_count": 12,
   "metadata": {},
   "outputs": [],
   "source": [
    "def check_purity(y):\n",
    "    unique_classes = np.unique(y)\n",
    "    if len(unique_classes)==1:\n",
    "        return True\n",
    "    else:\n",
    "        return False"
   ]
  },
  {
   "cell_type": "code",
   "execution_count": 13,
   "metadata": {},
   "outputs": [],
   "source": [
    "def classify_data(y):\n",
    "    unique_classes, counts = np.unique(y, return_counts=True)\n",
    "    return unique_classes[np.argmax(counts)]"
   ]
  },
  {
   "cell_type": "code",
   "execution_count": 14,
   "metadata": {},
   "outputs": [],
   "source": [
    "def get_potential_splits(X):\n",
    "    _,n = X.shape\n",
    "    potential_splits = {}\n",
    "    for i in range(n):\n",
    "        # print i\n",
    "        unique_values = np.unique(X[:,i])\n",
    "        splits = []\n",
    "        # print unique_values\n",
    "        for j in range(1,len(unique_values)):\n",
    "            splits.append((unique_values[j]+unique_values[j-1])/2.0)\n",
    "        # print splits\n",
    "        potential_splits[i] = splits\n",
    "    return potential_splits"
   ]
  },
  {
   "cell_type": "code",
   "execution_count": 15,
   "metadata": {},
   "outputs": [],
   "source": [
    "potential_splits = get_potential_splits(X_train)"
   ]
  },
  {
   "cell_type": "code",
   "execution_count": 16,
   "metadata": {},
   "outputs": [],
   "source": [
    "def split_data(X, y, split_column, threshold):\n",
    "    below_rows = np.where(X[:,split_column]<=threshold)[0]\n",
    "    # print below_rows\n",
    "    above_rows = range(X.shape[0])\n",
    "    above_rows = np.setdiff1d(above_rows, below_rows)\n",
    "    # print above_rows\n",
    "    X_below = X[below_rows,:]\n",
    "    y_below = y[below_rows]\n",
    "    X_above = X[above_rows,:]\n",
    "    y_above = y[above_rows]\n",
    "    return X_below, X_above, y_below, y_above"
   ]
  },
  {
   "cell_type": "code",
   "execution_count": 17,
   "metadata": {},
   "outputs": [],
   "source": [
    "def split_y(X, y, split_column, threshold):\n",
    "    below_rows = np.where(X[:,split_column]<=threshold)[0]\n",
    "    above_rows = range(X.shape[0])\n",
    "    above_rows = np.setdiff1d(above_rows, below_rows)\n",
    "    y_below = y[below_rows]\n",
    "    y_above = y[above_rows]\n",
    "    return y_below, y_above"
   ]
  },
  {
   "cell_type": "code",
   "execution_count": 18,
   "metadata": {},
   "outputs": [],
   "source": [
    "X_below, X_above, y_below, y_above = split_data(X_train, y_train, 0, 5.2)"
   ]
  },
  {
   "cell_type": "code",
   "execution_count": 19,
   "metadata": {},
   "outputs": [],
   "source": [
    "def calculate_entropy(y):\n",
    "    _, counts = np.unique(y, return_counts=True)\n",
    "    probabilities = counts*1.0 / np.sum(counts)\n",
    "    entropy = -1*(np.sum(probabilities*np.log2(probabilities)))\n",
    "    return entropy"
   ]
  },
  {
   "cell_type": "code",
   "execution_count": 20,
   "metadata": {},
   "outputs": [
    {
     "name": "stdout",
     "output_type": "stream",
     "text": [
      "1.3600034483643832\n"
     ]
    }
   ],
   "source": [
    "print calculate_entropy(y_above)"
   ]
  },
  {
   "cell_type": "code",
   "execution_count": 21,
   "metadata": {},
   "outputs": [],
   "source": [
    "def calculate_overall_entropy(y_below, y_above):\n",
    "    n_points = len(y_below) + len(y_above)\n",
    "    overall_entropy = (len(y_below)*calculate_entropy(y_below) + len(y_above)*calculate_entropy(y_above))/n_points\n",
    "    return overall_entropy"
   ]
  },
  {
   "cell_type": "code",
   "execution_count": 22,
   "metadata": {},
   "outputs": [
    {
     "data": {
      "text/plain": [
       "1.1469171728542913"
      ]
     },
     "execution_count": 22,
     "metadata": {},
     "output_type": "execute_result"
    }
   ],
   "source": [
    "calculate_overall_entropy(y_below, y_above)"
   ]
  },
  {
   "cell_type": "code",
   "execution_count": 23,
   "metadata": {},
   "outputs": [],
   "source": [
    "def determine_best_split(X, y):\n",
    "    potential_splits = get_potential_splits(X)\n",
    "    split_column = None\n",
    "    split_threshold = None\n",
    "    min_overall_entropy = 999\n",
    "    for column, splits in potential_splits.iteritems():\n",
    "        for threshold in splits:\n",
    "            y_below, y_above = split_y(X, y, column, threshold)\n",
    "            overall_entropy = calculate_overall_entropy(y_below, y_above)\n",
    "            if overall_entropy < min_overall_entropy:\n",
    "                split_column = column\n",
    "                split_threshold = threshold\n",
    "                min_overall_entropy = overall_entropy\n",
    "    return split_column, split_threshold"
   ]
  },
  {
   "cell_type": "code",
   "execution_count": 24,
   "metadata": {},
   "outputs": [
    {
     "data": {
      "text/plain": [
       "(2, 2.5999999999999996)"
      ]
     },
     "execution_count": 24,
     "metadata": {},
     "output_type": "execute_result"
    }
   ],
   "source": [
    "determine_best_split(X_train, y_train)"
   ]
  },
  {
   "cell_type": "code",
   "execution_count": 26,
   "metadata": {},
   "outputs": [],
   "source": [
    "class DecisionTreeClassifier:\n",
    "    def __init__(self, min_samples = 10, max_depth = 3):\n",
    "        self.is_leaf = False\n",
    "        self.leaf_value = None\n",
    "        self.below = None\n",
    "        self.above = None\n",
    "        self.max_depth = max_depth\n",
    "        self.min_samples = min_samples\n",
    "        self.split_column = None\n",
    "        self.split_threshold = None\n",
    "    def fit(self, X, y):\n",
    "        if len(y)<=self.min_samples or check_purity(y) or self.max_depth == 0:\n",
    "            self.is_leaf = True\n",
    "            self.leaf_value = classify_data(y)\n",
    "        else:\n",
    "            split_column, split_threshold = determine_best_split(X, y)\n",
    "            self.split_column = split_column\n",
    "            self.split_threshold = split_threshold\n",
    "            X_below, X_above, y_below, y_above = split_data(X, y, split_column, split_threshold)\n",
    "            self.below = DecisionTreeClassifier(self.min_samples, self.max_depth - 1)\n",
    "            self.below.fit(X_below, y_below)\n",
    "            self.above = DecisionTreeClassifier(self.min_samples, self.max_depth - 1)\n",
    "            self.above.fit(X_above, y_above)\n",
    "    def predict(self, x):\n",
    "        if self.is_leaf:\n",
    "            return self.leaf_value\n",
    "        else:\n",
    "            if x[self.split_column] <= self.split_threshold:\n",
    "                return self.below.predict(x)\n",
    "            else:\n",
    "                return self.above.predict(x)"
   ]
  },
  {
   "cell_type": "code",
   "execution_count": 27,
   "metadata": {},
   "outputs": [],
   "source": [
    "clf = DecisionTreeClassifier()\n",
    "clf.fit(X_train, y_train)"
   ]
  },
  {
   "cell_type": "code",
   "execution_count": 32,
   "metadata": {},
   "outputs": [
    {
     "data": {
      "text/plain": [
       "array([ True,  True,  True,  True,  True,  True,  True, False,  True,\n",
       "        True,  True,  True,  True,  True,  True,  True,  True,  True,\n",
       "        True,  True,  True,  True,  True,  True,  True,  True,  True,\n",
       "        True,  True,  True])"
      ]
     },
     "execution_count": 32,
     "metadata": {},
     "output_type": "execute_result"
    }
   ],
   "source": [
    "predictions = []\n",
    "for row in X_test:\n",
    "    predictions.append(clf.predict(row))\n",
    "(predictions == y_test)"
   ]
  },
  {
   "cell_type": "code",
   "execution_count": 31,
   "metadata": {},
   "outputs": [
    {
     "data": {
      "text/plain": [
       "array([[5. , 3.4, 1.6, 0.4],\n",
       "       [6.1, 2.6, 5.6, 1.4],\n",
       "       [6.3, 3.4, 5.6, 2.4],\n",
       "       [4.8, 3.4, 1.6, 0.2],\n",
       "       [6.6, 3. , 4.4, 1.4],\n",
       "       [6.7, 2.5, 5.8, 1.8],\n",
       "       [4.6, 3.6, 1. , 0.2],\n",
       "       [4.4, 3.2, 1.3, 0.2],\n",
       "       [5.4, 3. , 4.5, 1.5],\n",
       "       [6.7, 3. , 5.2, 2.3],\n",
       "       [7.4, 2.8, 6.1, 1.9],\n",
       "       [6.5, 3. , 5.2, 2. ],\n",
       "       [6. , 3.4, 4.5, 1.6],\n",
       "       [5.1, 3.5, 1.4, 0.2],\n",
       "       [7.2, 3. , 5.8, 1.6],\n",
       "       [6.4, 2.7, 5.3, 1.9],\n",
       "       [5.7, 2.8, 4.1, 1.3],\n",
       "       [5.4, 3.9, 1.7, 0.4],\n",
       "       [4.9, 3.1, 1.5, 0.1],\n",
       "       [5. , 2. , 3.5, 1. ],\n",
       "       [5.7, 2.8, 4.5, 1.3],\n",
       "       [6.2, 3.4, 5.4, 2.3],\n",
       "       [5.8, 2.8, 5.1, 2.4],\n",
       "       [4.6, 3.1, 1.5, 0.2],\n",
       "       [7.6, 3. , 6.6, 2.1],\n",
       "       [5.7, 3. , 4.2, 1.2],\n",
       "       [5.5, 2.6, 4.4, 1.2],\n",
       "       [6.1, 2.9, 4.7, 1.4],\n",
       "       [5.7, 2.9, 4.2, 1.3],\n",
       "       [6.7, 3.3, 5.7, 2.1],\n",
       "       [6.4, 2.9, 4.3, 1.3],\n",
       "       [5.2, 4.1, 1.5, 0.1],\n",
       "       [5.1, 3.8, 1.5, 0.3],\n",
       "       [6.2, 2.2, 4.5, 1.5],\n",
       "       [6. , 2.2, 5. , 1.5],\n",
       "       [5.6, 2.5, 3.9, 1.1],\n",
       "       [6.6, 2.9, 4.6, 1.3],\n",
       "       [5. , 3. , 1.6, 0.2],\n",
       "       [5.1, 3.4, 1.5, 0.2],\n",
       "       [5.8, 2.6, 4. , 1.2],\n",
       "       [6.8, 3. , 5.5, 2.1],\n",
       "       [5.1, 3.5, 1.4, 0.3],\n",
       "       [5. , 3.3, 1.4, 0.2],\n",
       "       [5.2, 3.4, 1.4, 0.2],\n",
       "       [5.2, 3.5, 1.5, 0.2],\n",
       "       [6.9, 3.2, 5.7, 2.3],\n",
       "       [6.2, 2.9, 4.3, 1.3],\n",
       "       [5.5, 2.4, 3.8, 1.1],\n",
       "       [5.4, 3.4, 1.5, 0.4],\n",
       "       [6.5, 3. , 5.5, 1.8],\n",
       "       [6.8, 3.2, 5.9, 2.3],\n",
       "       [7.2, 3.6, 6.1, 2.5],\n",
       "       [6.3, 2.8, 5.1, 1.5],\n",
       "       [5. , 3.5, 1.3, 0.3],\n",
       "       [6.5, 2.8, 4.6, 1.5],\n",
       "       [5.8, 2.7, 5.1, 1.9],\n",
       "       [4.9, 3.1, 1.5, 0.1],\n",
       "       [5.5, 2.3, 4. , 1.3],\n",
       "       [6. , 3. , 4.8, 1.8],\n",
       "       [6.7, 3.1, 4.7, 1.5],\n",
       "       [6.3, 3.3, 6. , 2.5],\n",
       "       [4.6, 3.2, 1.4, 0.2],\n",
       "       [6.7, 3.3, 5.7, 2.5],\n",
       "       [4.5, 2.3, 1.3, 0.3],\n",
       "       [5.5, 2.4, 3.7, 1. ],\n",
       "       [5.5, 3.5, 1.3, 0.2],\n",
       "       [5.8, 2.7, 3.9, 1.2],\n",
       "       [5.7, 2.5, 5. , 2. ],\n",
       "       [6.4, 3.2, 4.5, 1.5],\n",
       "       [5.6, 2.9, 3.6, 1.3],\n",
       "       [6.9, 3.1, 4.9, 1.5],\n",
       "       [7.7, 2.8, 6.7, 2. ],\n",
       "       [5.1, 3.8, 1.6, 0.2],\n",
       "       [6.7, 3.1, 4.4, 1.4],\n",
       "       [4.8, 3. , 1.4, 0.1],\n",
       "       [5.8, 2.7, 5.1, 1.9],\n",
       "       [6.1, 2.8, 4. , 1.3],\n",
       "       [4.4, 2.9, 1.4, 0.2],\n",
       "       [5.4, 3.7, 1.5, 0.2],\n",
       "       [6.4, 3.2, 5.3, 2.3],\n",
       "       [6.4, 3.1, 5.5, 1.8],\n",
       "       [7. , 3.2, 4.7, 1.4],\n",
       "       [6.9, 3.1, 5.4, 2.1],\n",
       "       [5.7, 4.4, 1.5, 0.4],\n",
       "       [4.6, 3.4, 1.4, 0.3],\n",
       "       [6. , 2.7, 5.1, 1.6],\n",
       "       [5.8, 2.7, 4.1, 1. ],\n",
       "       [7.3, 2.9, 6.3, 1.8],\n",
       "       [6.5, 3. , 5.8, 2.2],\n",
       "       [5.5, 4.2, 1.4, 0.2],\n",
       "       [5.9, 3.2, 4.8, 1.8],\n",
       "       [6.3, 2.9, 5.6, 1.8],\n",
       "       [5.4, 3.9, 1.3, 0.4],\n",
       "       [4.8, 3.1, 1.6, 0.2],\n",
       "       [5.9, 3. , 4.2, 1.5],\n",
       "       [5. , 3.4, 1.5, 0.2],\n",
       "       [4.8, 3. , 1.4, 0.3],\n",
       "       [5.2, 2.7, 3.9, 1.4],\n",
       "       [5.1, 3.7, 1.5, 0.4],\n",
       "       [7.9, 3.8, 6.4, 2. ],\n",
       "       [5.6, 3. , 4.1, 1.3],\n",
       "       [6.1, 2.8, 4.7, 1.2],\n",
       "       [5. , 2.3, 3.3, 1. ],\n",
       "       [5.1, 3.8, 1.9, 0.4],\n",
       "       [5.1, 3.3, 1.7, 0.5],\n",
       "       [5.6, 2.8, 4.9, 2. ],\n",
       "       [6.3, 2.5, 4.9, 1.5],\n",
       "       [6.4, 2.8, 5.6, 2.2],\n",
       "       [6.5, 3.2, 5.1, 2. ],\n",
       "       [6.8, 2.8, 4.8, 1.4],\n",
       "       [5. , 3.6, 1.4, 0.2],\n",
       "       [4.9, 3. , 1.4, 0.2],\n",
       "       [4.9, 2.5, 4.5, 1.7],\n",
       "       [6.3, 2.5, 5. , 1.9],\n",
       "       [5.9, 3. , 5.1, 1.8],\n",
       "       [5.6, 2.7, 4.2, 1.3],\n",
       "       [5.4, 3.4, 1.7, 0.2],\n",
       "       [6.7, 3.1, 5.6, 2.4],\n",
       "       [5.1, 2.5, 3. , 1.1],\n",
       "       [5.3, 3.7, 1.5, 0.2]])"
      ]
     },
     "execution_count": 31,
     "metadata": {},
     "output_type": "execute_result"
    }
   ],
   "source": [
    "X_train"
   ]
  },
  {
   "cell_type": "code",
   "execution_count": 33,
   "metadata": {},
   "outputs": [
    {
     "data": {
      "text/plain": [
       "array([0, 2, 2, 0, 1, 2, 0, 0, 1, 2, 2, 2, 1, 0, 2, 2, 1, 0, 0, 1, 1, 2,\n",
       "       2, 0, 2, 1, 1, 1, 1, 2, 1, 0, 0, 1, 2, 1, 1, 0, 0, 1, 2, 0, 0, 0,\n",
       "       0, 2, 1, 1, 0, 2, 2, 2, 2, 0, 1, 2, 0, 1, 2, 1, 2, 0, 2, 0, 1, 0,\n",
       "       1, 2, 1, 1, 1, 2, 0, 1, 0, 2, 1, 0, 0, 2, 2, 1, 2, 0, 0, 1, 1, 2,\n",
       "       2, 0, 1, 2, 0, 0, 1, 0, 0, 1, 0, 2, 1, 1, 1, 0, 0, 2, 1, 2, 2, 1,\n",
       "       0, 0, 2, 2, 2, 1, 0, 2, 1, 0])"
      ]
     },
     "execution_count": 33,
     "metadata": {},
     "output_type": "execute_result"
    }
   ],
   "source": [
    "y_train"
   ]
  },
  {
   "cell_type": "code",
   "execution_count": null,
   "metadata": {},
   "outputs": [],
   "source": []
  }
 ],
 "metadata": {
  "kernelspec": {
   "display_name": "Python 2",
   "language": "python",
   "name": "python2"
  },
  "language_info": {
   "codemirror_mode": {
    "name": "ipython",
    "version": 2
   },
   "file_extension": ".py",
   "mimetype": "text/x-python",
   "name": "python",
   "nbconvert_exporter": "python",
   "pygments_lexer": "ipython2",
   "version": "2.7.15"
  }
 },
 "nbformat": 4,
 "nbformat_minor": 2
}
